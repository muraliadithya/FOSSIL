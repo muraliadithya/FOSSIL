{
 "cells": [
  {
   "cell_type": "code",
   "execution_count": 1,
   "metadata": {},
   "outputs": [],
   "source": [
    "from pretty_latex import *"
   ]
  },
  {
   "cell_type": "code",
   "execution_count": 2,
   "metadata": {},
   "outputs": [],
   "source": [
    "ordered_names = get_order('order.txt')\n",
    "\n",
    "# Process baseline log\n",
    "#main_results = 'minisy.log'\n",
    "#names, results_cex = process_log(main_results)\n",
    "#cex = [results_cex[name][0] for name in names]\n",
    "#max_runtime = max(cex)\n",
    "\n",
    "# Process output\n",
    "main_results = 'FOSSIL-out-old.txt'\n",
    "names, results_cex = process_done(main_results)"
   ]
  },
  {
   "cell_type": "markdown",
   "metadata": {},
   "source": [
    "# 1. FOSSIL results table (LaTeX)"
   ]
  },
  {
   "cell_type": "code",
   "execution_count": 3,
   "metadata": {},
   "outputs": [
    {
     "name": "stdout",
     "output_type": "stream",
     "text": [
      "\t\tdlist-list\t\t\t& 1\t& 1\t& 1 \\\\\n",
      "\t\tslist-list\t\t\t& 2\t& 1\t& 2 \\\\\n",
      "\t\tsdlist-dlist\t\t\t& 2\t& 1\t& 2 \\\\\n",
      "\t\tsdlist-dlist-slist\t\t& 4\t& 2\t& 2 \\\\\n",
      "\t\tlistlen-list\t\t\t& 1\t& 1\t& 1 \\\\\n",
      "\t\teven-list\t\t\t& 2\t& 1\t& 1 \\\\\n",
      "\t\todd-list\t\t\t& 2\t& 1\t& 2 \\\\\n",
      "\t\tlist-even-or-odd\t\t& 7\t& 3\t& 7 \\\\\n",
      "\t\tlseg-list\t\t\t& 9\t& 1\t& 9 \\\\\n",
      "\t\tlseg-next\t\t\t& 9\t& 1\t& 10 \\\\\n",
      "\t\tlseg-next-dyn\t\t\t& 1\t& 1\t& 1 \\\\\n",
      "\t\tlseg-trans\t\t\t& 7\t& 1\t& 9 \\\\\n",
      "\t\tlseg-trans2\t\t\t& 6\t& 1\t& 8 \\\\\n",
      "\t\tlseg-ext\t\t\t& ---\t& ---\t& \\bot \\\\\n",
      "\t\tlseg-nil-list\t\t\t& 7\t& 1\t& 6 \\\\\n",
      "\t\tslseg-nil-slist\t\t\t& 7\t& 1\t& 7 \\\\\n",
      "\t\tlist-hlist-list\t\t\t& 4\t& 1\t& 2 \\\\\n",
      "\n",
      "\n",
      "\n",
      "\t\tlist-hlist-lseg\t\t\t& 5\t& 1\t& 3 \\\\\n",
      "\t\tlist-lseg-keys\t\t\t& 7\t& 1\t& 5 \\\\\n",
      "\t\tlist-lseg-keys2\t\t\t& 16\t& 2\t& 13 \\\\\n",
      "\t\trlist-list\t\t\t& 2\t& 1\t& 1 \\\\\n",
      "\t\trlist-black-height\t\t& 9\t& 4\t& 7 \\\\\n",
      "\t\trlist-red-height\t\t& 7\t& 3\t& 6 \\\\\n",
      "\t\tcyclic-next\t\t\t& 5\t& 1\t& 10 \\\\\n",
      "\t\ttree-dag\t\t\t& 4\t& 1\t& 3 \\\\\n",
      "\t\tbst-tree\t\t\t& 2\t& 1\t& 4 \\\\\n",
      "\t\tmaxheap-dag\t\t\t& 2\t& 1\t& 2 \\\\\n",
      "\t\tmaxheap-tree\t\t\t& 2\t& 1\t& 2 \\\\\n",
      "\t\ttree-p-tree\t\t\t& 2\t& 1\t& 2 \\\\\n",
      "\t\ttree-p-reach\t\t\t& 10\t& 1\t& 12 \\\\\n",
      "\t\ttree-p-reach-tree\t\t& 10\t& 3\t& 22 \\\\\n",
      "\t\ttree-reach\t\t\t& 6\t& 1\t& 28 \\\\\n",
      "\t\ttree-reach2\t\t\t& 11\t& 2\t& 27 \\\\\n",
      "\t\t~ & ~ & ~ & ~ \\\\\n",
      "\n",
      "\n",
      "\t\tdag-reach\t\t\t& 4\t& 1\t& 3 \\\\\n",
      "\t\tdag-reach2\t\t\t& 5\t& 1\t& 5 \\\\\n",
      "\t\treach-left-right\t\t& 13\t& 4\t& 33 \\\\\n",
      "\t\tbst-left\t\t\t& 5\t& 1\t& 12 \\\\\n",
      "\t\tbst-right\t\t\t& 7\t& 1\t& 15 \\\\\n",
      "\t\tbst-leftmost\t\t\t& 12\t& 6\t& 65 \\\\\n",
      "\t\tbst-left-right\t\t\t& 28\t& 6\t& 180 \\\\\n",
      "\t\tbst-maximal\t\t\t& 6\t& 1\t& 7 \\\\\n",
      "\t\tbst-minimal\t\t\t& 5\t& 1\t& 7 \\\\\n",
      "\t\tmaxheap-htree-key\t\t& 14\t& 2\t& 126 \\\\\n",
      "\t\tmaxheap-keys\t\t\t& 8\t& 1\t& 18 \\\\\n",
      "\t\treachability\t\t\t& 5\t& 1\t& 6 \\\\\n",
      "\t\treachability2\t\t\t& 2\t& 1\t& 2 \\\\\n",
      "\t\treachability3\t\t\t& 3\t& 1\t& 4 \\\\\n",
      "\t\treachability4\t\t\t& 2\t& 1\t& 2 \\\\\n",
      "\t\treachability5\t\t\t& 6\t& 1\t& 9 \\\\\n",
      "\t\treachability6\t\t\t& 3\t& 1\t& 3 \\\\\n"
     ]
    }
   ],
   "source": [
    "results_table(results_cex, ordered_names, timeout=900)"
   ]
  },
  {
   "cell_type": "markdown",
   "metadata": {},
   "source": [
    "--------------------------------------------"
   ]
  },
  {
   "cell_type": "code",
   "execution_count": 4,
   "metadata": {},
   "outputs": [],
   "source": [
    "ordered_names = get_order('order.txt')\n",
    "\n",
    "# Process main results\n",
    "main_results = [\n",
    "    #'FOSSIL-out-new.txt',\n",
    "    #'FOSSIL-out-run2.txt',\n",
    "    #'FOSSIL-out-run3.txt',\n",
    "    'FOSSIL-out-old.txt',\n",
    "]\n",
    "M = len(main_results)\n",
    "names, results_cex = process_done(main_results[0])\n",
    "cex = [0] * len(results_cex)\n",
    "for j,run_results in enumerate(main_results):\n",
    "    _, results_run = process_done(run_results)\n",
    "    run = [results_run[name][0] for name in names]\n",
    "    for i,name in enumerate(names):\n",
    "        cex[i] += run[i] / M\n",
    "for i,name in enumerate(names):\n",
    "    tmp = list(results_cex[name])\n",
    "    tmp[0] = cex[i]\n",
    "    results_cex[name] = tuple(tmp)"
   ]
  },
  {
   "cell_type": "markdown",
   "metadata": {},
   "source": [
    "## 1. FOSSIL results table (LaTeX)"
   ]
  },
  {
   "cell_type": "code",
   "execution_count": 5,
   "metadata": {
    "scrolled": false
   },
   "outputs": [
    {
     "name": "stdout",
     "output_type": "stream",
     "text": [
      "\t\tdlist-list\t\t\t& 1\t& 1\t& 1 \\\\\n",
      "\t\tslist-list\t\t\t& 2\t& 1\t& 2 \\\\\n",
      "\t\tsdlist-dlist\t\t& 2\t& 1\t& 2 \\\\\n",
      "\t\tsdlist-dlist-slist\t& 4\t& 2\t& 2 \\\\\n",
      "\t\tlistlen-list\t\t& 1\t& 1\t& 1 \\\\\n",
      "\t\teven-list\t\t\t& 2\t& 1\t& 1 \\\\\n",
      "\t\todd-list\t\t\t& 2\t& 1\t& 2 \\\\\n",
      "\t\tlist-even-or-odd\t& 7\t& 3\t& 7 \\\\\n",
      "\t\tlseg-list\t\t\t& 9\t& 1\t& 9 \\\\\n",
      "\t\tlseg-next\t\t\t& 9\t& 1\t& 10 \\\\\n",
      "\t\tlseg-next-dyn\t\t& 1\t& 1\t& 1 \\\\\n",
      "\t\tlseg-trans\t\t\t& 7\t& 1\t& 9 \\\\\n",
      "\t\tlseg-trans2\t\t\t& 6\t& 1\t& 8 \\\\\n",
      "\t\tlseg-ext\t\t\t& -1\t& -1\t& 900 \\\\\n",
      "\t\tlseg-nil-list\t\t& 7\t& 1\t& 6 \\\\\n",
      "\t\tslseg-nil-slist\t\t& 7\t& 1\t& 7 \\\\\n",
      "\t\tlist-hlist-list\t\t& 4\t& 1\t& 2 \\\\\n",
      "\t\tlist-hlist-lseg\t\t& 5\t& 1\t& 3 \\\\\n",
      "\t\tlist-lseg-keys\t\t& 7\t& 1\t& 5 \\\\\n",
      "\t\tlist-lseg-keys2\t\t& 16\t& 2\t& 13 \\\\\n",
      "\t\trlist-list\t\t\t& 2\t& 1\t& 1 \\\\\n",
      "\t\trlist-black-height\t& 9\t& 4\t& 7 \\\\\n",
      "\t\trlist-red-height\t& 7\t& 3\t& 6 \\\\\n",
      "\t\tcyclic-next\t\t\t& 5\t& 1\t& 10 \\\\\n",
      "\t\ttree-dag\t\t\t& 4\t& 1\t& 3 \\\\\n",
      "\n",
      "\n",
      "\n",
      "\t\tbst-tree\t\t\t& 2\t& 1\t& 4 \\\\\n",
      "\t\tmaxheap-dag\t\t\t& 2\t& 1\t& 2 \\\\\n",
      "\t\tmaxheap-tree\t\t& 2\t& 1\t& 2 \\\\\n",
      "\t\ttree-p-tree\t\t\t& 2\t& 1\t& 2 \\\\\n",
      "\t\ttree-p-reach\t\t& 10\t& 1\t& 12 \\\\\n",
      "\t\ttree-p-reach-tree\t& 10\t& 3\t& 22 \\\\\n",
      "\t\ttree-reach\t\t\t& 6\t& 1\t& 28 \\\\\n",
      "\t\ttree-reach2\t\t\t& 11\t& 2\t& 27 \\\\\n",
      "\t\tdag-reach\t\t\t& 4\t& 1\t& 3 \\\\\n",
      "\t\tdag-reach2\t\t\t& 5\t& 1\t& 5 \\\\\n",
      "\t\treach-left-right\t& 13\t& 4\t& 33 \\\\\n",
      "\t\tbst-left\t\t\t& 5\t& 1\t& 12 \\\\\n",
      "\t\tbst-right\t\t\t& 7\t& 1\t& 15 \\\\\n",
      "\t\tbst-leftmost\t\t& 12\t& 6\t& 65 \\\\\n",
      "\t\tbst-left-right\t\t& 28\t& 6\t& 180 \\\\\n",
      "\t\tbst-maximal\t\t\t& 6\t& 1\t& 7 \\\\\n",
      "\t\tbst-minimal\t\t\t& 5\t& 1\t& 7 \\\\\n",
      "\t\tmaxheap-htree-key\t& 14\t& 2\t& 126 \\\\\n",
      "\t\tmaxheap-keys\t\t& 8\t& 1\t& 18 \\\\\n",
      "\t\treachability\t\t& 5\t& 1\t& 6 \\\\\n",
      "\t\treachability2\t\t& 2\t& 1\t& 2 \\\\\n",
      "\t\treachability3\t\t& 3\t& 1\t& 4 \\\\\n",
      "\t\treachability4\t\t& 2\t& 1\t& 2 \\\\\n",
      "\t\treachability5\t\t& 6\t& 1\t& 9 \\\\\n",
      "\t\treachability6\t\t& 3\t& 1\t& 3 \\\\\n"
     ]
    }
   ],
   "source": [
    "M = len(names)//2 - 1\n",
    "for i,name in enumerate(ordered_names):\n",
    "    if name not in results_cex:\n",
    "        print('ERROR',name)\n",
    "        break\n",
    "    res = (str(int(r)) for r in results_cex[name])\n",
    "    spacing = '\\t\\t' if len(name) < 12 else '\\t' if len(name) < 16 else ''\n",
    "    print('\\t\\t' + '\\t& '.join([name+spacing,*res]),'\\\\\\\\')\n",
    "    if i == M:\n",
    "        print('\\n\\n')"
   ]
  },
  {
   "cell_type": "markdown",
   "metadata": {},
   "source": [
    "## 2. Appendix - lemmas"
   ]
  },
  {
   "cell_type": "code",
   "execution_count": 6,
   "metadata": {},
   "outputs": [],
   "source": [
    "_, statements_cex = process_statements(main_results[0])"
   ]
  },
  {
   "cell_type": "code",
   "execution_count": 7,
   "metadata": {
    "scrolled": false
   },
   "outputs": [
    {
     "name": "stdout",
     "output_type": "stream",
     "text": [
      "\t\t\\hline dlist-list & (dlst(v)) $\\Rightarrow$ (lst(v)) \\\\\n",
      "\t\t\\hline slist-list & (slst(v)) $\\Rightarrow$ (lst(v)) \\\\\n",
      "\t\t\\hline sdlist-dlist & (sdlst(v)) $\\Rightarrow$ (dlst(v)) \\\\\n",
      "\t\t\\hline sdlist-dlist-slist & (sdlst(v)) $\\Rightarrow$ (dlst(v)) \\\\\n",
      " & (sdlst(v)) $\\Rightarrow$ (slst(v)) \\\\\n",
      "\t\t\\hline listlen-list & (lstlen\\textunderscore bool(v)) $\\Rightarrow$ (lst(v)) \\\\\n",
      "\t\t\\hline even-list & (even\\textunderscore lst(v)) $\\Rightarrow$ (lst(v)) \\\\\n",
      "\t\t\\hline odd-list & (odd\\textunderscore lst(v)) $\\Rightarrow$ (lst(v)) \\\\\n",
      "\t\t\\hline list-even-or-odd & (lst(v)) $\\Rightarrow$ (((even\\textunderscore lst(nxt(v))) $\\Rightarrow$ (False)) $\\Rightarrow$ (even\\textunderscore lst(v))) \\\\\n",
      " & (odd\\textunderscore lst(v)) $\\Rightarrow$ (even\\textunderscore lst(nxt(v))) \\\\\n",
      " & (even\\textunderscore lst(v)) $\\Rightarrow$ (($\\neg$(nxt(v) $=$ nil)) $\\Rightarrow$ (odd\\textunderscore lst(nxt(v)))) \\\\\n",
      "\t\t\\hline lseg-list & (lseg(v1, v2)) $\\Rightarrow$ ((lst(v2)) $\\Rightarrow$ (lst(v1))) \\\\\n",
      "\t\t\\hline lseg-next & (lseg(v1, v2)) $\\Rightarrow$ ((lseg(v2, z)) $\\Rightarrow$ (lseg(v1, z))) \\\\\n",
      "\t\t\\hline lseg-next-dyn & (lsegy(v1)) $\\Rightarrow$ (lsegz\\textunderscore p(v1)) \\\\\n",
      "\t\t\\hline lseg-trans & (lseg(v1, v2)) $\\Rightarrow$ ((lseg(v2, z)) $\\Rightarrow$ (lseg(v1, z))) \\\\\n",
      "\t\t\\hline lseg-trans2 & (lseg(v1, v2)) $\\Rightarrow$ ((lseg(v2, z)) $\\Rightarrow$ (lseg(v1, z))) \\\\\n",
      "\t\t\\hline lseg-ext & n/a \\\\\n",
      "\t\t\\hline lseg-nil-list & (lseg(v1, v2)) $\\Rightarrow$ ((lst(v2)) $\\Rightarrow$ (lst(v1))) \\\\\n",
      "\t\t\\hline slseg-nil-slist & (slseg(v1, v2)) $\\Rightarrow$ ((slst(v2)) $\\Rightarrow$ (slst(v1))) \\\\\n",
      "\t\t\\hline list-hlist-list & (lst(v1)) $\\Rightarrow$ ((hlst(v1)[v2]) $\\Rightarrow$ (lst(v2))) \\\\\n",
      "\t\t\\hline list-hlist-lseg & (lst(v1)) $\\Rightarrow$ ((hlst(v1)[v2]) $\\Rightarrow$ (lseg(v1, v2))) \\\\\n",
      "\t\t\\hline list-lseg-keys & (lseg(v1, v2)) $\\Rightarrow$ ((keys(v2)[k]) $\\Rightarrow$ (keys(v1)[k])) \\\\\n",
      "\t\t\\hline list-lseg-keys2 & (lseg(v1, v2)) $\\Rightarrow$ ((lst(v1)) $\\Rightarrow$ (lst(v2))) \\\\\n",
      " & (lseg(v1, v2)) $\\Rightarrow$ ((keys(v2)[k]) $\\Rightarrow$ (keys(v1)[k])) \\\\\n",
      "\t\t\\hline rlist-list & (rlst(v)) $\\Rightarrow$ (lst(v)) \\\\\n",
      "\t\t\\hline rlist-black-height & (rlst(v)) $\\Rightarrow$ (red\\textunderscore height(nxt(v)) $\\leq$ black\\textunderscore height(v) + 1) \\\\\n",
      " & (rlst(v)) $\\Rightarrow$ (black\\textunderscore height(nxt(v)) + black\\textunderscore height(v) $\\leq$ red\\textunderscore height(nxt(v)) + black\\textunderscore height(nxt(v))) \\\\\n",
      " & (rlst(v)) $\\Rightarrow$ (1 $\\leq$ red\\textunderscore height(nxt(v)) + 1) \\\\\n",
      " & (rlst(v)) $\\Rightarrow$ (red\\textunderscore height(v) $=$ 1 + black\\textunderscore height(nxt(v))) \\\\\n",
      "\t\t\\hline rlist-red-height & (rlst(v)) $\\Rightarrow$ (black\\textunderscore height(nxt(v)) + 1 $=$ red\\textunderscore height(v)) \\\\\n",
      " & (rlst(v)) $\\Rightarrow$ ((black(v)) $\\Rightarrow$ (red(nxt(v)))) \\\\\n",
      " & (rlst(v)) $\\Rightarrow$ (1 $\\leq$ red\\textunderscore height(v)) \\\\\n",
      "\t\t\\hline cyclic-next & (lseg(v1, v2)) $\\Rightarrow$ (lseg(nxt(v1), nxt(v2))) \\\\\n",
      "\t\t\\hline tree-dag & (tree(v1)) $\\Rightarrow$ (dag(v1)) \\\\\n",
      "\t\t\\hline bst-tree & (bst(v)) $\\Rightarrow$ (tree(v)) \\\\\n",
      "\t\t\\hline maxheap-dag & (maxheap(v)) $\\Rightarrow$ (dag(v)) \\\\\n",
      "\t\t\\hline maxheap-tree & (maxheap(v)) $\\Rightarrow$ (tree(v)) \\\\\n",
      "\t\t\\hline tree-p-tree & (tree\\textunderscore p(v1)) $\\Rightarrow$ (tree(v1)) \\\\\n",
      "\n",
      "\n",
      "\n",
      "\t\t\\hline tree-p-reach & (reach\\textunderscore lr(v1, v2)) $\\Rightarrow$ ((tree\\textunderscore p(v1)) $\\Rightarrow$ (tree\\textunderscore p(v2))) \\\\\n",
      "\t\t\\hline tree-p-reach-tree & (tree\\textunderscore p(v1)) $\\Rightarrow$ (tree(v1)) \\\\\n",
      " & (reach\\textunderscore lr(v1, v2)) $\\Rightarrow$ ((tree\\textunderscore p(v1)) $\\Rightarrow$ (tree(v2))) \\\\\n",
      " & (reach\\textunderscore lr(v1, v2)) $\\Rightarrow$ (($\\neg$(v2 $=$ nil)) $\\Rightarrow$ (htree(v1)[v2])) \\\\\n",
      "\t\t\\hline tree-reach & (reach\\textunderscore lr(v1, v2)) $\\Rightarrow$ ((tree(v1)) $\\Rightarrow$ (tree(v2))) \\\\\n",
      "\t\t\\hline tree-reach2 & (reach\\textunderscore lr(v1, v2)) $\\Rightarrow$ ((tree(v1)) $\\Rightarrow$ (tree(v2))) \\\\\n",
      " & (reach\\textunderscore lr(v1, v2)) $\\Rightarrow$ (($\\neg$(v2 $=$ nil)) $\\Rightarrow$ (htree(v1)[v2])) \\\\\n",
      "\t\t\\hline dag-reach & (reach\\textunderscore lr(v1, v2)) $\\Rightarrow$ ((dag(v1)) $\\Rightarrow$ (dag(v2))) \\\\\n",
      "\t\t\\hline dag-reach2 & (reach\\textunderscore lr(v1, v2)) $\\Rightarrow$ ((dag(v1)) $\\Rightarrow$ (dag(v2))) \\\\\n",
      "\t\t\\hline reach-left-right & (tree(v1)) $\\Rightarrow$ ((htree(v1)[v2]) $\\Rightarrow$ (tree(v2))) \\\\\n",
      " & (reach\\textunderscore lr(v1, v2)) $\\Rightarrow$ ((tree(v1)) $\\Rightarrow$ (tree(v2))) \\\\\n",
      " & (reach\\textunderscore lr(v1, v2)) $\\Rightarrow$ ((htree(v2)[v2]) $\\Rightarrow$ (htree(v1)[v1])) \\\\\n",
      " & (reach\\textunderscore lr(v1, v2)) $\\Rightarrow$ ((htree(v2)[v2]) $\\Rightarrow$ (htree(v1)[v2])) \\\\\n",
      "\t\t\\hline bst-left & (bst(v)) $\\Rightarrow$ ((keys(v)[k]) $\\Rightarrow$ (minr(v) $\\leq$ k)) \\\\\n",
      "\t\t\\hline bst-right & (bst(v)) $\\Rightarrow$ ((keys(v)[k]) $\\Rightarrow$ (k $\\leq$ maxr(v))) \\\\\n",
      "\t\t\\hline bst-leftmost & (bst(v)) $\\Rightarrow$ (minr(leftmost(v)) $=$ minr(v)) \\\\\n",
      " & (bst(v)) $\\Rightarrow$ (key(leftmost(v)) $\\leq$ key(v)) \\\\\n",
      " & (bst(v)) $\\Rightarrow$ (bst(leftmost(v))) \\\\\n",
      " & (bst(v)) $\\Rightarrow$ (maxr(leftmost(v)) $\\leq$ maxr(v)) \\\\\n",
      " & (bst(v)) $\\Rightarrow$ (($\\neg$(v $=$ nil)) $\\Rightarrow$ ($\\neg$(leftmost(v) $=$ nil))) \\\\\n",
      " & (bst(v)) $\\Rightarrow$ (((bst(leftmost(v))) $\\Rightarrow$ (hbst(v)[v])) $\\Rightarrow$ (key(leftmost(v)) $\\leq$ minr(leftmost(v)))) \\\\\n",
      "\t\t\\hline bst-left-right & (bst(v1)) $\\Rightarrow$ ((hbst(v1)[v2]) $\\Rightarrow$ (minr(v1) $\\leq$ minr(v2))) \\\\\n",
      " & (bst(v1)) $\\Rightarrow$ ((hbst(v1)[v2]) $\\Rightarrow$ (bst(v2))) \\\\\n",
      " & (bst(v1)) $\\Rightarrow$ ((hbst(v1)[v2]) $\\Rightarrow$ ($\\neg$(v2 $=$ nil))) \\\\\n",
      " & (bst(v1)) $\\Rightarrow$ ((hbst(v1)[v2]) $\\Rightarrow$ (maxr(v2) $\\leq$ maxr(v1))) \\\\\n",
      " & (bst(v1)) $\\Rightarrow$ ((minr(v1) $\\leq$ maxr(v2)) $\\Rightarrow$ (hbst(v2)[v2])) \\\\\n",
      " & (bst(v1)) $\\Rightarrow$ ((minr(v2) $\\leq$ maxr(v1)) $\\Rightarrow$ ((bst(v2)) $\\Rightarrow$ (hbst(v2)[v2]))) \\\\\n",
      "\t\t\\hline bst-maximal & (bst(v1)) $\\Rightarrow$ ((hbst(v1)[v2]) $\\Rightarrow$ (bst(v2))) \\\\\n",
      "\t\t\\hline bst-minimal & (bst(v1)) $\\Rightarrow$ ((hbst(v1)[v2]) $\\Rightarrow$ (bst(v2))) \\\\\n",
      "\t\t\\hline maxheap-htree-key & (maxheap(v1)) $\\Rightarrow$ ((htree(v1)[v2]) $\\Rightarrow$ (maxheap(v2))) \\\\\n",
      " & (maxheap(v1)) $\\Rightarrow$ ((htree(v1)[v2]) $\\Rightarrow$ (key(v2) $\\leq$ key(v1))) \\\\\n",
      "\t\t\\hline maxheap-keys & (maxheap(v)) $\\Rightarrow$ ((keys(v)[k]) $\\Rightarrow$ (k $\\leq$ key(v))) \\\\\n",
      "\t\t\\hline reachability & (v2(z) $=$ c) $\\vee$ (v1(z) $=$ v2(z)) \\\\\n",
      "\t\t\\hline reachability2 & (reach\\textunderscore pgm(z)) $\\Rightarrow$ (v1(z) $=$ v2(z)) \\\\\n",
      "\t\t\\hline reachability3 & (reach\\textunderscore pgm(z)) $\\Rightarrow$ (v1(z) $=$ v2(z)) \\\\\n",
      "\t\t\\hline reachability4 & (reach\\textunderscore pgm(z)) $\\Rightarrow$ (v2(z) $=$ v1(z)) \\\\\n",
      "\t\t\\hline reachability5 & (v1(z) $=$ n(v2(z))) $\\vee$ (v2(z) $=$ c) \\\\\n",
      "\t\t\\hline reachability6 & (reach\\textunderscore pgm(z)) $\\Rightarrow$ (v1(z) $=$ n(v2(z))) \\\\\n"
     ]
    }
   ],
   "source": [
    "for i,name in enumerate(ordered_names):\n",
    "    if name not in statements_cex:\n",
    "        print('ERROR', name)\n",
    "        break\n",
    "    if name == 'tree-p-reach':\n",
    "        print('\\n\\n')\n",
    "    lemmas = statements_cex[name]\n",
    "    if lemmas:\n",
    "        lem_init = parse_latex(lemmas[0])\n",
    "    else:\n",
    "        lem_init = 'n/a'\n",
    "    print('\\t\\t\\hline', name, '&', lem_init, '\\\\\\\\')\n",
    "    for lemma in lemmas[1:]:\n",
    "        print(' &', parse_latex(lemma), '\\\\\\\\')"
   ]
  },
  {
   "cell_type": "markdown",
   "metadata": {},
   "source": [
    "## 3. Appendix - theorems"
   ]
  },
  {
   "cell_type": "code",
   "execution_count": 8,
   "metadata": {},
   "outputs": [],
   "source": [
    "theorems = dict()\n",
    "names = []\n",
    "with open('thms.txt', 'r') as input_file:\n",
    "        for num,line in enumerate(input_file):\n",
    "            line = line.split('\\t',1)\n",
    "            name = line[0]\n",
    "            theorem = line[1:][0][:-1]\n",
    "            if theorem[0] == '\"':\n",
    "                theorem = theorem[1:-1]\n",
    "            theorems[name] = theorem\n",
    "            names.append(name)"
   ]
  },
  {
   "cell_type": "code",
   "execution_count": 9,
   "metadata": {
    "scrolled": false
   },
   "outputs": [
    {
     "name": "stdout",
     "output_type": "stream",
     "text": [
      "\t\t\\hline dlist-list & dlst(x) $\\Rightarrow$ (If(x $=$ nil, ret $=$ nil, ret $=$ nxt(x)) $\\Rightarrow$ lst(ret)) \\\\\n",
      "\t\t\\hline slist-list & slst(x) $\\Rightarrow$ (If(x $=$ nil, ret $=$ nil, ret $=$ nxt(x)) $\\Rightarrow$ lst(ret)) \\\\\n",
      "\t\t\\hline sdlist-dlist & sdlst(x) $\\Rightarrow$ (If(x $=$ nil, ret $=$ nil, ret $=$ nxt(x)) $\\Rightarrow$ dlst(ret)) \\\\\n",
      "\t\t\\hline sdlist-dlist-slist & sdlst(x) $\\Rightarrow$ (If(x $=$ nil, ret $=$ nil, ret $=$ nxt(x)) $\\Rightarrow$ dlst(ret) $\\wedge$ slst(ret)) \\\\\n",
      "\t\t\\hline listlen-list & listlen(x, l) $\\Rightarrow$ (If(l $=$ 1, ret $=$ x, ret $=$ nxt(x)), list(x)) \\\\\n",
      "\t\t\\hline even-list & even\\textunderscore lst(x) $\\Rightarrow$ (If(x $=$ nil, ret $=$ nil, ret $=$ nxt(x)) $\\Rightarrow$ lst(ret)) \\\\\n",
      "\t\t\\hline odd-list & odd\\textunderscore lst(x) $\\Rightarrow$ (If(x $=$ nil, ret $=$ nil, ret $=$ nxt(x)) $\\Rightarrow$ lst(ret)) \\\\\n",
      "\t\t\\hline list-even-or-odd & lst(x) $\\Rightarrow$ (even\\textunderscore lst(x) $\\vee$ odd\\textunderscore lst(x)) \\\\\n",
      "\t\t\\hline lseg-list & lseg(x,y) $\\Rightarrow$ (If(x $=$ nil, ret $=$ nil, ret $=$ nxt(x)) $\\Rightarrow$ lst(ret)) \\\\\n",
      "\t\t\\hline lseg-next & lseg(x,y) $\\Rightarrow$ ((key(x) $\\neq$ k $\\wedge$ n(y) = z) $\\Rightarrow$ lseg(x,z)) \\\\\n",
      "\t\t\\hline lseg-next-dyn & lsegy(x) $\\Rightarrow$ (key(x) $\\neq$ k $\\Rightarrow$ lsegz\\textunderscore p(x)) \\\\\n",
      "\t\t\\hline lseg-trans & lseg(x, y) $\\Rightarrow$ (lst(y) $\\wedge$ x $\\neq$ c $\\wedge$ nxt(y) $=$ z $\\Rightarrow$ (lseg(x, z) $\\wedge$ lst(z))) \\\\\n",
      "\t\t\\hline lseg-trans2 & lseg(x, y) $\\Rightarrow$ (key(x) $\\neq$ k $\\wedge$ lseg(y, z) $\\Rightarrow$ lseg(x, z)) \\\\\n",
      "\t\t\\hline lseg-ext & lseg(x, y) $\\Rightarrow$ (key(x) $\\neq$ k $\\wedge$ lseg(x, z) $\\Rightarrow$ lseg(y, z) $\\vee$ lseg(z, y)) \\\\\n",
      "\t\t\\hline lseg-nil-list & lseg(x, y) $\\Rightarrow$ (If(x $=$ nil, ret $=$ nil, ret $=$ nxt(x)) $\\Rightarrow$ (y $=$ nil $\\Rightarrow$ list(ret))) \\\\\n",
      "\t\t\\hline slseg-nil-slist & slseg(x, y) $\\Rightarrow$ (If(x $=$ nil, ret $=$ nil, ret $=$ nxt(x)) $\\Rightarrow$ (y $=$ nil $\\Rightarrow$ slist(ret))) \\\\\n",
      "\t\t\\hline list-hlist-list & lst(x) $\\Rightarrow$ (key(x) $\\neq$ k $\\wedge$ y $\\in$ hlst(x) $\\Rightarrow$ lst(y)) \\\\\n",
      "\t\t\\hline list-hlist-lseg & lst(x) $\\Rightarrow$ (key(x) $\\neq$ k $\\wedge$ y $\\in$ hlst(x) $\\Rightarrow$ lseg(x,y)) \\\\\n",
      "\t\t\\hline list-lseg-keys & lst(x) $\\Rightarrow$ ((y $\\neq$ nil $\\wedge$ lseg(x,y) $\\wedge$ key(y) $=$ k) $\\Rightarrow$ k $\\in$ keys(x)) \\\\\n",
      "\t\t\\hline list-lseg-keys2 & lseg(x,y) $\\Rightarrow$ ((x $\\neq$ nil $\\wedge$ y $\\neq$ nil $\\wedge$ lst(x) $\\wedge$ key(y) $=$ k) $\\Rightarrow$ k $\\in$ keys(x)) \\\\\n",
      "\t\t\\hline rlist-list & rlst(x) $\\Rightarrow$ (If(x $=$ nil, ret $=$ nil, ret $=$ nxt(x)) $\\Rightarrow$ lst(ret)) \\\\\n",
      "\t\t\\hline rlist-black-height & rlst(x) $\\Rightarrow$ (black(x) $\\Rightarrow$ red\\textunderscore height(x) $=$ black\\textunderscore height(x)) \\\\\n",
      "\t\t\\hline rlist-red-height & rlst(x) $\\Rightarrow$ (red(x) $\\Rightarrow$ red\\textunderscore height(x) $=$ 1 + black\\textunderscore height(x)) \\\\\n",
      "\t\t\\hline cyclic-next & cyclic(x) $\\Rightarrow$ cyclic(nxt(x)) \\\\\n",
      "\t\t\\hline tree-dag & tree(x) $\\Rightarrow$ (If(x $=$ nil, ret $=$ nil, ret $=$ lft(x)) $\\Rightarrow$ dag(ret)) \\\\\n",
      "\n",
      "\n",
      "\n",
      "\t\t\\hline bst-tree & bst(x) $\\Rightarrow$ (If(x $=$ nil, ret $=$ nil, ret $=$ lft(x)) $\\Rightarrow$ tree(ret)) \\\\\n",
      "\t\t\\hline maxheap-dag & maxheap(x) $\\Rightarrow$ (If(x $=$ nil, ret $=$ nil, ret $=$ lft(x)) $\\Rightarrow$ dag(ret)) \\\\\n",
      "\t\t\\hline maxheap-tree & maxheap(x) $\\Rightarrow$ (If(x $=$ nil, ret $=$ nil, ret $=$ lft(x)) $\\Rightarrow$ tree(ret)) \\\\\n",
      "\t\t\\hline tree-p-tree & tree\\textunderscore p(x) $\\Rightarrow$ (parent(x) $=$ nil $\\Rightarrow$ tree(x)) \\\\\n",
      "\t\t\\hline tree-p-reach & tree\\textunderscore p(x) $\\Rightarrow$ (reach\\textunderscore lr(x,y) $\\Rightarrow$ tree\\textunderscore p(y)) \\\\\n",
      "\t\t\\hline tree-p-reach-tree & tree\\textunderscore p(x) $\\Rightarrow$ (parent(x) $=$ nil $\\Rightarrow$ (reach\\textunderscore lr(x,y) $\\Rightarrow$ tree(y))) \\\\\n",
      "\t\t\\hline tree-reach & reach(x,y) $\\Rightarrow$ (tree(x) $\\wedge$ key(x) $\\neq$ k $\\Rightarrow$ tree(y)) \\\\\n",
      "\t\t\\hline tree-reach2 & tree(x) $\\Rightarrow$ (reach(x,y) $\\Rightarrow$ tree(y)) \\\\\n",
      "\t\t\\hline dag-reach & reach(x,y) $\\Rightarrow$ (dag(x) $\\wedge$ key(x) $\\neq$ k $\\Rightarrow$ dag(y)) \\\\\n",
      "\t\t\\hline dag-reach2 & dag(x) $\\Rightarrow$ (reach(x,y) $\\Rightarrow$ dag(y)) \\\\\n",
      "\t\t\\hline reach-left-right & reach(x,y) $\\Rightarrow$ (x $\\neq$ nil $\\wedge$ y $\\neq$ nil $\\wedge$ reach(lft(x), y) $\\wedge$ reach(rght(x), z) $\\Rightarrow$ y $\\neq$ z) \\\\\n",
      "\t\t\\hline bst-left & bst(x) $\\Rightarrow$ ((x $\\neq$ nil $\\wedge$ k $\\in$ keys(x) $\\wedge$ k < key(x)) $\\Rightarrow$ k $\\in$ keys(lft(x))) \\\\\n",
      "\t\t\\hline bst-right & bst(x) $\\Rightarrow$ ((x $\\neq$ nil $\\wedge$ k $\\in$ keys(x) $\\wedge$ k > key(x)) $\\Rightarrow$ k $\\in$ keys(rght(x))) \\\\\n",
      "\t\t\\hline bst-leftmost & ((x $\\neq$ nil $\\wedge$ key(x) $\\neq$ k $\\wedge$ y $=$ leftmost(x)) $\\Rightarrow$ key(y) $=$ minr(x)) \\\\\n",
      "\t\t\\hline bst-left-right & bst(x) $\\Rightarrow$ ((x $\\neq$ nil $\\wedge$ y $\\in$ hbst(lft(x)) $\\wedge$ z $\\in$ hbst(rght(x))) $\\Rightarrow$ key(y) $\\leq$ key(z)) \\\\\n",
      "\t\t\\hline bst-maximal & bst(x) $\\Rightarrow$ ((x $\\neq$ nil y $\\neq$ nil $\\wedge$ rght(y) $\\neq$ nil $\\wedge$ y $\\in$ hbst(x) $\\wedge$ k $=$ maxr(x)) $\\Rightarrow$ k $=$ maxr(lft(y))) \\\\\n",
      "\t\t\\hline bst-minimal & bst(x) $\\Rightarrow$ ((x $\\neq$ nil y $\\neq$ nil $\\wedge$ lft(y) $\\neq$ nil $\\wedge$ y $\\in$ hbst(x) $\\wedge$ k $=$ minr(x)) $\\Rightarrow$ k $=$ minr(lft(y))) \\\\\n",
      "\t\t\\hline maxheap-htree-key & maxheap(x) $\\Rightarrow$ (key(x) $\\neq$ k $\\Rightarrow$ (y $\\in$ htree(x) $\\Rightarrow$ key(y) $\\leq$ key(x))) \\\\\n",
      "\t\t\\hline maxheap-keys & maxheap(x) $\\Rightarrow$ (lft(x) $\\neq$ nil $\\Rightarrow$ (k $\\in$ keys(x) $\\Rightarrow$ k $\\leq$ key(x)) \\\\\n",
      "\n",
      "\n",
      "\n",
      "\t\t\\hline reachability & {v1 = v2} \\\\ & while (v1 $\\neq$ nil) do \\\\ &   v1 := n(v1); \\\\ &   if (v2 $\\neq$ c) {v2 := n(v2)} \\\\ & endwhile \\\\ & {v2 = nil $\\vee$ v2 = c} \\\\\n",
      "\t\t\\hline reachability2 & {v1 = v2} \\\\ & while (v1 $\\neq$ nil) do \\\\ &   v1 := n(v1); \\\\ &   v2 := n(v2) \\\\ & endwhile \\\\ & {v2 = nil} \\\\\n",
      "\t\t\\hline reachability3 & {v1 = v2} \\\\ & while (v1 $\\neq$ c) do \\\\ &   v1 := n(v1); \\\\ &   if (v2 $\\neq$ c) {v2 := n(v2)} \\\\ & endwhile \\\\ & {v2 = nil $\\vee$ v2 = c} \\\\\n",
      "\t\t\\hline reachability4 & {v1 = v2} \\\\ & while (v1 $\\neq$ c) do \\\\ &   v1 := n(v1); \\\\ &   v2 := n(v2) \\\\ & endwhile \\\\ & {v2 = nil} \\\\\n",
      "\t\t\\hline reachability5 & {v1 = n(v2)} \\\\ & while (v1 $\\neq$ nil) do \\\\ &   v1 := n(v1); \\\\ &   if (v2 $\\neq$ c) {v2 := n(v2)} \\\\ & endwhile \\\\ & {n(v2) = nil $\\vee$ v2 = c} \\\\\n",
      "\t\t\\hline reachability6 & {v1 = n(v2)} \\\\ & while (v1 $\\neq$ nil) do \\\\ & v2 := n(v2) \\\\ & endwhile \\\\ & {n(v2) = nil} \\\\\n"
     ]
    }
   ],
   "source": [
    "for i,name in enumerate(ordered_names):\n",
    "    if name not in theorems:\n",
    "        print('ERROR', name)\n",
    "        break\n",
    "    if name in {'bst-tree', 'reachability'}:\n",
    "        print('\\n\\n')\n",
    "    print('\\t\\t\\hline', name, '&', parse_latex(theorems[name]), '\\\\\\\\')"
   ]
  }
 ],
 "metadata": {
  "kernelspec": {
   "display_name": "Python 3",
   "language": "python",
   "name": "python3"
  },
  "language_info": {
   "codemirror_mode": {
    "name": "ipython",
    "version": 3
   },
   "file_extension": ".py",
   "mimetype": "text/x-python",
   "name": "python",
   "nbconvert_exporter": "python",
   "pygments_lexer": "ipython3",
   "version": "3.8.3"
  }
 },
 "nbformat": 4,
 "nbformat_minor": 4
}
