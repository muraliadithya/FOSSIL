{
 "cells": [
  {
   "cell_type": "code",
   "execution_count": null,
   "metadata": {},
   "outputs": [],
   "source": [
    "from pretty_plot import *\n",
    "from matplotlib import cm\n",
    "import matplotlib.pyplot as plt\n",
    "import numpy as np"
   ]
  },
  {
   "cell_type": "code",
   "execution_count": null,
   "metadata": {},
   "outputs": [],
   "source": [
    "main_results = 'minisy.log'\n",
    "names, results_cex = process_log(main_results)\n",
    "cex = [results_cex[name][0] for name in names]\n",
    "max_runtime = 240 #max(cex)"
   ]
  },
  {
   "cell_type": "code",
   "execution_count": null,
   "metadata": {},
   "outputs": [],
   "source": [
    "# Process main results\n",
    "main_results = [\n",
    "    #'FOSSIL-out-new.txt',\n",
    "    #'FOSSIL-out-run2.txt',\n",
    "    'FOSSIL-out-run3.txt',\n",
    "    'FOSSIL-out-run4.txt',\n",
    "]\n",
    "M = len(main_results)\n",
    "names, results_cex = process_done(main_results[0])\n",
    "cex = [0] * len(results_cex)\n",
    "for j,run_results in enumerate(main_results):\n",
    "    _, results_run = process_done(run_results)\n",
    "    run = [results_run[name][0] for name in names]\n",
    "    for i,name in enumerate(names):\n",
    "        cex[i] += run[i] / M\n",
    "cex_max = max(cex)"
   ]
  },
  {
   "cell_type": "markdown",
   "metadata": {},
   "source": [
    "## A. No counterexamples/streaming (runtimes)"
   ]
  },
  {
   "cell_type": "code",
   "execution_count": null,
   "metadata": {},
   "outputs": [],
   "source": [
    "# Process comparison\n",
    "_, results_streaming = process_done('streaming-new.txt', name_terminate=False)\n",
    "streaming = [results_streaming[name][0] for name in names]"
   ]
  },
  {
   "cell_type": "code",
   "execution_count": null,
   "metadata": {},
   "outputs": [],
   "source": [
    "# Plot\n",
    "m = 100 #max([max(streaming), cex_max])\n",
    "x = adjust(streaming, mx=m)\n",
    "y = adjust(cex, mx=m)\n",
    "pretty_plot(x, y, x_name='FOSSIL[only Type-1]', y_leg='upper left', offset_band_label=True)\n",
    "check_bench(x, y, first_name='no counterexamples', second_name='main')\n",
    "check_bench(x, y, first_name='no counterexamples', second_name='main', bench=-1)"
   ]
  },
  {
   "cell_type": "code",
   "execution_count": null,
   "metadata": {},
   "outputs": [],
   "source": [
    "# Pie chart\n",
    "timeouts = 0\n",
    "faster = 0\n",
    "faster_pct = []\n",
    "equal = 0\n",
    "slower = 0\n",
    "slower_pct = []\n",
    "for i in range(len(x)):\n",
    "    if x[i] > 100:\n",
    "        timeouts += 1\n",
    "    elif x[i] > y[i]:\n",
    "        faster += 1\n",
    "        faster_pct.append((x[i]-y[i])/y[i])\n",
    "    elif x[i] == y[i]:\n",
    "        equal += 1\n",
    "    else:\n",
    "        slower += 1\n",
    "        slower_pct.append((y[i]-x[i])/y[i])\n",
    "        \n",
    "labels = ['FOSSIL\\ninfinitely\\nfaster', 'FOSSIL\\nfaster', 'No difference', 'FOSSIL slower']\n",
    "sizes = [timeouts, faster, equal, slower]\n",
    "explode = (0, 0, 0.2, 0.2)\n",
    "cmap = cm.get_cmap('RdYlGn')\n",
    "colors = [cmap(0.95), cmap(0.75), cmap(0.4), cmap(0.1)]\n",
    "\n",
    "fig1, ax1 = plt.subplots()\n",
    "ax1.pie(sizes, explode=explode, labels=labels, colors=colors, autopct='%1.f%%', pctdistance=0.7,\n",
    "        startangle=90, radius=1)\n",
    "ax1.axis('equal')\n",
    "fig1.tight_layout()\n",
    "plt.savefig('plots/pie_FOSSIL_no-counterexamples_-FOSSIL_runtime.png',\n",
    "            bbox_inches = 'tight', pad_inches = 0.2)\n",
    "plt.show()\n",
    "\n",
    "print('When FOSSIL was faster, it was on average {:.1f}% faster.'.format(100*np.mean(faster_pct)))\n",
    "print('When FOSSIL was slower, it was on average {:.1f}% slower.'.format(100*np.mean(slower_pct)))"
   ]
  },
  {
   "cell_type": "markdown",
   "metadata": {},
   "source": [
    "## B. No LFP counterexamples (runtimes)"
   ]
  },
  {
   "cell_type": "code",
   "execution_count": null,
   "metadata": {},
   "outputs": [],
   "source": [
    "# Process comparison\n",
    "_, results_nocex = process_log('no_type2.log')\n",
    "nocex = [results_nocex[name][0] for name in names]"
   ]
  },
  {
   "cell_type": "code",
   "execution_count": null,
   "metadata": {},
   "outputs": [],
   "source": [
    "# Plot\n",
    "x = adjust(nocex, mx=max_runtime)\n",
    "y = adjust(cex, mx=max_runtime)\n",
    "pretty_plot(x, y, x_name='FOSSIL[no Type-2]', y_leg='upper left', tm_val=max_runtime)\n",
    "check_bench(x, y)\n",
    "check_bench(x, y, bench=-1)"
   ]
  },
  {
   "cell_type": "markdown",
   "metadata": {},
   "source": [
    "## C. No LFP counterexamples (lemma proposals)"
   ]
  },
  {
   "cell_type": "code",
   "execution_count": null,
   "metadata": {},
   "outputs": [],
   "source": [
    "# Plot lemma proposals\n",
    "cex_prop = [results_cex[name][1] for name in names]\n",
    "nocex_prop = [results_nocex[name][1] for name in names]\n",
    "m = max([max(nocex_prop), max(cex_prop)])\n",
    "x_prop = adjust(nocex_prop, mx=m)\n",
    "y_prop = adjust(cex_prop, mx=m)\n",
    "pretty_plot(x_prop, y_prop, x_name='FOSSIL[no Type-2]', tm_val=m+1, mark='D', y_leg='upper left',\n",
    "            log=True, square=True, measurement='lemmas proposed', unit=None, bands=False)"
   ]
  },
  {
   "cell_type": "code",
   "execution_count": null,
   "metadata": {},
   "outputs": [],
   "source": [
    "# Alternative plot to above scatterplot for lemmas proposed\n",
    "plt.rcParams.update({'font.size': 14})\n",
    "\n",
    "fig = plt.figure()\n",
    "left, width = 0.1, 0.65\n",
    "bottom, height = 0.1, 0.65\n",
    "rect_bar = [left, bottom, width, height]\n",
    "\n",
    "# Start with a rectangular Figure\n",
    "plt.figure(figsize=(12, 6.32))\n",
    "ax = plt.axes(rect_bar)\n",
    "\n",
    "#y_prop = [yi for _, yi in sorted(zip(x, y_prop), reverse=True)]\n",
    "#x_prop = [xi for _, xi in sorted(zip(x, x_prop), reverse=True)]\n",
    "y_prop = [yi for _, yi in sorted(zip(x_prop, y_prop), reverse=True)]\n",
    "x_prop = sorted(x_prop, reverse=True)\n",
    "\n",
    "N = len(names)\n",
    "ind = np.arange(N)  # the x locations for the groups\n",
    "width = 0.35      #  the width of the bars\n",
    "\n",
    "rects1 = ax.bar(ind,         x_prop, width, color='sandybrown')\n",
    "rects2 = ax.bar(ind + width, y_prop, width, color='yellowgreen')\n",
    "\n",
    "ax.set_ylabel('Number of lemmas proposed')\n",
    "ax.set_xlabel('Benchmarks')\n",
    "ax.set_xticklabels([])\n",
    "ax.set_title('')\n",
    "\n",
    "ax.legend((rects1[0], rects2[0]), ('FOSSIL[no Type-2]', 'FOSSIL'))\n",
    "fig.tight_layout()\n",
    "plt.savefig('plots/bar_FOSSIL_no-true-counterexamples_-FOSSIL_lemmas-proposed.png',\n",
    "            bbox_inches = 'tight', pad_inches = 0.2, dpi=100)\n",
    "plt.show()\n",
    "check_bench(x_prop, y_prop, first_name='no true counterexamples', second_name='main')\n",
    "check_bench(x_prop, y_prop, first_name='no true counterexamples', second_name='main', bench=-1)"
   ]
  },
  {
   "cell_type": "code",
   "execution_count": null,
   "metadata": {},
   "outputs": [],
   "source": [
    "# Alternative plot to above bar plot for lemmas proposed, single relative bars\n",
    "diff = [x_prop[i] - y_prop[i] for i in range(len(x_prop))]\n",
    "\n",
    "plt.figure(figsize=(12, 6))\n",
    "ax = plt.axes()\n",
    "bins = np.arange(-6,20,2)# + 0.5\n",
    "ax.hist(diff, bins, facecolor='yellowgreen', alpha=0.6)\n",
    "ax.set_xticks(range(-6,20,2))\n",
    "ax.set_xlim([-6, 19])\n",
    "ax.yaxis.get_major_locator().set_params(integer=True)\n",
    "\n",
    "ax.set_ylabel('Count')\n",
    "ax.set_xlabel('Fewer lemmas proposed by FOSSIL')\n",
    "plt.show()"
   ]
  },
  {
   "cell_type": "markdown",
   "metadata": {},
   "source": [
    "## D. CVC4Sy (runtimes)"
   ]
  },
  {
   "cell_type": "code",
   "execution_count": null,
   "metadata": {},
   "outputs": [],
   "source": [
    "# Process comparison\n",
    "_, results_cvc4sy = process_done('cvc4sy-new.txt', name_terminate=False)\n",
    "cvc4sy = [results_cvc4sy[name][0] for name in names]"
   ]
  },
  {
   "cell_type": "code",
   "execution_count": null,
   "metadata": {},
   "outputs": [],
   "source": [
    "# Plot\n",
    "m = 500 #max([max(cvc4sy), cex_max])\n",
    "x = adjust(cvc4sy, mx=m)\n",
    "y = adjust(cex, mx=m)\n",
    "pretty_plot(x, y, x_name='FOSSIL[CVC4Sy]', y_leg='upper left')\n",
    "check_bench(x, y, first_name='CVC4Sy', second_name='minisy')\n",
    "check_bench(x, y, first_name='CVC4Sy', second_name='minisy', bench=-1)"
   ]
  },
  {
   "cell_type": "code",
   "execution_count": null,
   "metadata": {},
   "outputs": [],
   "source": []
  }
 ],
 "metadata": {
  "kernelspec": {
   "display_name": "Python 3",
   "language": "python",
   "name": "python3"
  },
  "language_info": {
   "codemirror_mode": {
    "name": "ipython",
    "version": 3
   },
   "file_extension": ".py",
   "mimetype": "text/x-python",
   "name": "python",
   "nbconvert_exporter": "python",
   "pygments_lexer": "ipython3",
   "version": "3.8.3"
  }
 },
 "nbformat": 4,
 "nbformat_minor": 4
}
