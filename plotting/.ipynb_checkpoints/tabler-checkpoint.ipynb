{
 "cells": [
  {
   "cell_type": "code",
   "execution_count": 1,
   "metadata": {},
   "outputs": [],
   "source": [
    "from pretty_latex import *"
   ]
  },
  {
   "cell_type": "code",
   "execution_count": 2,
   "metadata": {},
   "outputs": [],
   "source": [
    "ordered_names = get_order('order.txt')\n",
    "names, results_cex = process_done('lucas_cex_out.txt')"
   ]
  },
  {
   "cell_type": "markdown",
   "metadata": {},
   "source": [
    "## 1. FOSSIL results table (LaTeX)"
   ]
  },
  {
   "cell_type": "code",
   "execution_count": 3,
   "metadata": {
    "scrolled": false
   },
   "outputs": [
    {
     "name": "stdout",
     "output_type": "stream",
     "text": [
      "\t\tdlist-list\t\t\t& 1\t& 1\t& 1s \\\\\n",
      "\t\tslist-list\t\t\t& 1\t& 1\t& 1s \\\\\n",
      "\t\tsdlist-dlist\t\t& 1\t& 1\t& 2s \\\\\n",
      "\t\tsdlist-dlist-slist\t& 3\t& 2\t& 3s \\\\\n",
      "\t\tlistlen-list\t\t& 1\t& 1\t& 1s \\\\\n",
      "\t\teven-list\t\t\t& 1\t& 1\t& 2s \\\\\n",
      "\t\todd-list\t\t\t& 4\t& 2\t& 4s \\\\\n",
      "\t\tlist-even-or-odd\t& 7\t& 3\t& 9s \\\\\n",
      "\t\tlseg-list\t\t\t& 9\t& 2\t& 11s \\\\\n",
      "\t\tlseg-next\t\t\t& 6\t& 1\t& 9s \\\\\n",
      "\t\tlseg-next-dyn\t\t& 1\t& 1\t& 2s \\\\\n",
      "\t\tlseg-trans\t\t\t& 5\t& 1\t& 8s \\\\\n",
      "\t\tlseg-trans2\t\t\t& 8\t& 1\t& 16s \\\\\n",
      "\t\tlseg-ext\t\t\t& 7\t& 1\t& 5s \\\\\n",
      "\t\tlseg-nil-list\t\t& 8\t& 1\t& 10s \\\\\n",
      "\t\tslseg-nil-slist\t\t& 9\t& 1\t& 13s \\\\\n",
      "\t\tlist-hlist-list\t\t& 5\t& 1\t& 3s \\\\\n",
      "\t\tlist-hlist-lseg\t\t& 14\t& 4\t& 13s \\\\\n",
      "\t\tlist-lseg-keys\t\t& 15\t& 3\t& 20s \\\\\n",
      "\t\tlist-lseg-keys2\t\t& 17\t& 3\t& 19s \\\\\n",
      "\t\trlist-list\t\t\t& 1\t& 1\t& 1s \\\\\n",
      "\t\trlist-black-height\t& 4\t& 1\t& 3s \\\\\n",
      "\t\trlist-red-height\t& 2\t& 1\t& 2s \\\\\n",
      "\t\tcyclic-next\t\t\t& 7\t& 1\t& 10s \\\\\n",
      "\t\ttree-dag\t\t\t& 1\t& 1\t& 1s \\\\\n",
      "\n",
      "\n",
      "\n",
      "\t\tbst-tree\t\t\t& 1\t& 1\t& 3s \\\\\n",
      "\t\tmaxheap-dag\t\t\t& 2\t& 1\t& 3s \\\\\n",
      "\t\tmaxheap-tree\t\t& 2\t& 1\t& 2s \\\\\n",
      "\t\ttree-p-tree\t\t\t& 1\t& 1\t& 1s \\\\\n",
      "\t\ttree-p-reach\t\t& 13\t& 2\t& 24s \\\\\n",
      "\t\ttree-p-reach-tree\t& 6\t& 2\t& 12s \\\\\n",
      "\t\ttree-reach\t\t\t& 10\t& 2\t& 48s \\\\\n",
      "\t\ttree-reach2\t\t\t& 11\t& 2\t& 35s \\\\\n",
      "\t\tdag-reach\t\t\t& 7\t& 2\t& 6s \\\\\n",
      "\t\tdag-reach2\t\t\t& 8\t& 2\t& 7s \\\\\n",
      "\t\treach-left-right\t& 19\t& 6\t& 89s \\\\\n",
      "\t\tbst-left\t\t\t& 11\t& 3\t& 82s \\\\\n",
      "\t\tbst-right\t\t\t& 6\t& 1\t& 119s \\\\\n",
      "\t\tbst-leftmost\t\t& 14\t& 3\t& 59s \\\\\n",
      "\t\tbst-left-right\t\t& 25\t& 5\t& 132s \\\\\n",
      "\t\tbst-maximal\t\t\t& 5\t& 1\t& 5s \\\\\n",
      "\t\tbst-minimal\t\t\t& 6\t& 1\t& 7s \\\\\n",
      "\t\tmaxheap-htree-key\t& 5\t& 1\t& 4s \\\\\n",
      "\t\tmaxheap-keys\t\t& 5\t& 1\t& 14s \\\\\n",
      "\t\treachability\t\t& 8\t& 1\t& 10s \\\\\n",
      "\t\treachability2\t\t& 3\t& 1\t& 4s \\\\\n",
      "\t\treachability3\t\t& 3\t& 1\t& 4s \\\\\n",
      "\t\treachability4\t\t& 3\t& 1\t& 3s \\\\\n",
      "\t\treachability5\t\t& 11\t& 1\t& 16s \\\\\n",
      "\t\treachability6\t\t& 3\t& 1\t& 4s \\\\\n"
     ]
    }
   ],
   "source": [
    "M = len(names)//2 - 1\n",
    "for i,name in enumerate(ordered_names):\n",
    "    if name not in results_cex:\n",
    "        print('ERROR',name)\n",
    "        break\n",
    "    res = (str(r) for r in results_cex[name])\n",
    "    spacing = '\\t\\t' if len(name) < 12 else '\\t' if len(name) < 16 else ''\n",
    "    print('\\t\\t' + '\\t& '.join([name+spacing,*res]),'\\\\\\\\')\n",
    "    if i == M:\n",
    "        print('\\n\\n')"
   ]
  },
  {
   "cell_type": "markdown",
   "metadata": {},
   "source": [
    "## 2. Appendix - lemmas"
   ]
  },
  {
   "cell_type": "code",
   "execution_count": 4,
   "metadata": {},
   "outputs": [],
   "source": [
    "_, statements_cex = process_statements('lucas_cex_out.txt')"
   ]
  },
  {
   "cell_type": "code",
   "execution_count": 5,
   "metadata": {
    "scrolled": true
   },
   "outputs": [
    {
     "name": "stdout",
     "output_type": "stream",
     "text": [
      "\\hline dlist-list & (dlst(v)) $\\Rightarrow$ (lst(v)) \\\\\n",
      "\\hline slist-list & (slst(v)) $\\Rightarrow$ (lst(v)) \\\\\n",
      "\\hline sdlist-dlist & (sdlst(v)) $\\Rightarrow$ (dlst(v)) \\\\\n",
      "\\hline sdlist-dlist-slist & (sdlst(v)) $\\Rightarrow$ (dlst(v)) \\\\\n",
      " & (sdlst(v)) $\\Rightarrow$ (slst(v)) \\\\\n",
      "\\hline listlen-list & (lstlen\\textunderscore bool(v)) $\\Rightarrow$ (lst(v)) \\\\\n",
      "\\hline even-list & (even\\textunderscore lst(v)) $\\Rightarrow$ (lst(v)) \\\\\n",
      "\\hline odd-list & (odd\\textunderscore lst(v)) $\\Rightarrow$ (lst(v)) \\\\\n",
      " & (even\\textunderscore lst(v)) $\\Rightarrow$ (lst(v)) \\\\\n",
      "\\hline list-even-or-odd & (odd\\textunderscore lst(v)) $\\Rightarrow$ (even\\textunderscore lst(nxt(v))) \\\\\n",
      " & (even\\textunderscore lst(v)) $\\Rightarrow$ (($\\neg$(nxt(v) $=$ nil)) $\\Rightarrow$ (odd\\textunderscore lst(nxt(v)))) \\\\\n",
      " & (lst(v)) $\\Rightarrow$ (((even\\textunderscore lst(v)) $\\Rightarrow$ (odd\\textunderscore lst(nxt(nil)))) $\\Rightarrow$ (even\\textunderscore lst(nxt(v)))) \\\\\n",
      "\\hline lseg-list & (lst(v1)) $\\Rightarrow$ (lseg(v1, nil)) \\\\\n",
      " & (lseg(v1, v2)) $\\Rightarrow$ ((lst(v2)) $\\Rightarrow$ (lst(v1))) \\\\\n",
      "\\hline lseg-next & (lseg(v1, v2)) $\\Rightarrow$ (lseg(nxt(v1), nxt(v2))) \\\\\n",
      "\\hline lseg-next-dyn & (lsegy(v1)) $\\Rightarrow$ (lsegz\\textunderscore p(v1)) \\\\\n",
      "\\hline lseg-trans & (lseg(v1, v2)) $\\Rightarrow$ ((lseg(v2, z)) $\\Rightarrow$ (lseg(v1, z))) \\\\\n",
      "\\hline lseg-trans2 & (lseg(v1, v2)) $\\Rightarrow$ ((lseg(v2, z)) $\\Rightarrow$ (lseg(v1, z))) \\\\\n",
      "\\hline lseg-ext & (lseg(v2, z)) $\\vee$ (lseg(z, v2)) \\\\\n",
      "\\hline lseg-nil-list & (lseg(v1, v2)) $\\Rightarrow$ ((lst(v2)) $\\Rightarrow$ (lst(v1))) \\\\\n",
      "\\hline slseg-nil-slist & (slseg(v1, v2)) $\\Rightarrow$ (slst(v2) $=$ slst(v1)) \\\\\n",
      "\\hline list-hlist-list & (lst(v1)) $\\Rightarrow$ ((hlst(v1)[v2]) $\\Rightarrow$ (lst(v2))) \\\\\n",
      "\\hline list-hlist-lseg & (lst(v1)) $\\Rightarrow$ (lseg(v1, nil)) \\\\\n",
      " & (lst(v1)) $\\Rightarrow$ ((hlst(v1)[v2]) $\\Rightarrow$ (lseg(v2, nil))) \\\\\n",
      " & (lst(v1)) $\\Rightarrow$ ((hlst(v1)[v2]) $\\Rightarrow$ (lseg(v1, v2))) \\\\\n",
      " & (lst(v1)) $\\Rightarrow$ ((hlst(v1)[v2]) $\\Rightarrow$ (lst(v2))) \\\\\n",
      "\\hline list-lseg-keys & (lst(v1)) $\\Rightarrow$ (lseg(v1, nil)) \\\\\n",
      " & (lseg(v1, v2)) $\\Rightarrow$ ((keys(v2)[k]) $\\Rightarrow$ (keys(v1)[k])) \\\\\n",
      " & (lseg(v1, v2)) $\\Rightarrow$ ((lst(v1)) $\\Rightarrow$ (lseg(v2, nil))) \\\\\n",
      "\\hline list-lseg-keys2 & (lst(v1)) $\\Rightarrow$ (lseg(v1, nil)) \\\\\n",
      " & (lseg(v1, v2)) $\\Rightarrow$ ((lst(v1)) $\\Rightarrow$ (lst(v2))) \\\\\n",
      " & (lseg(v1, v2)) $\\Rightarrow$ ((keys(v2)[k]) $\\Rightarrow$ (keys(v1)[k])) \\\\\n",
      "\\hline rlist-list & (rlst(v)) $\\Rightarrow$ (lst(v)) \\\\\n",
      "\\hline rlist-black-height & (rlst(v)) $\\Rightarrow$ (red\\textunderscore height(v) + black\\textunderscore height(nxt(nil)) $=$ 1 + black\\textunderscore height(nxt(v))) \\\\\n",
      "\\hline rlist-red-height & (rlst(v)) $\\Rightarrow$ (red\\textunderscore height(v) $=$ 1 + black\\textunderscore height(nxt(v))) \\\\\n",
      "\\hline cyclic-next & (lseg(v1, v2)) $\\Rightarrow$ (lseg(nxt(v1), nxt(v2))) \\\\\n",
      "\\hline tree-dag & (tree(v1)) $\\Rightarrow$ (dag(v1)) \\\\\n",
      "\\hline bst-tree & (bst(v)) $\\Rightarrow$ (tree(v)) \\\\\n",
      "\\hline maxheap-dag & (maxheap(v)) $\\Rightarrow$ (dag(v)) \\\\\n",
      "\\hline maxheap-tree & (maxheap(v)) $\\Rightarrow$ (tree(v)) \\\\\n",
      "\\hline tree-p-tree & (tree\\textunderscore p(v1)) $\\Rightarrow$ (tree(v1)) \\\\\n",
      "\\hline tree-p-reach & (tree\\textunderscore p(v1)) $\\Rightarrow$ (reach\\textunderscore lr(v1, nil)) \\\\\n",
      " & (reach\\textunderscore lr(v1, v2)) $\\Rightarrow$ ((tree\\textunderscore p(v1)) $\\Rightarrow$ (tree\\textunderscore p(v2))) \\\\\n",
      "\\hline tree-p-reach-tree & (tree\\textunderscore p(v1)) $\\Rightarrow$ (tree(v1)) \\\\\n",
      " & (reach\\textunderscore lr(v1, v2)) $\\Rightarrow$ ((tree\\textunderscore p(v1)) $\\Rightarrow$ (tree\\textunderscore p(v2))) \\\\\n",
      "\\hline tree-reach & (reach\\textunderscore lr(v1, v2)) $\\Rightarrow$ ((tree(v1)) $\\Rightarrow$ (tree(v2))) \\\\\n",
      " & (tree(v1)) $\\Rightarrow$ (reach\\textunderscore lr(v1, nil)) \\\\\n",
      "\\hline tree-reach2 & (reach\\textunderscore lr(v1, v2)) $\\Rightarrow$ ((tree(v1)) $\\Rightarrow$ (tree(v2))) \\\\\n",
      " & (tree(v1)) $\\Rightarrow$ (reach\\textunderscore lr(v1, nil)) \\\\\n",
      "\\hline dag-reach & (dag(v1)) $\\Rightarrow$ (reach\\textunderscore lr(v1, nil)) \\\\\n",
      " & (reach\\textunderscore lr(v1, v2)) $\\Rightarrow$ ((dag(v1)) $\\Rightarrow$ (dag(v2))) \\\\\n",
      "\\hline dag-reach2 & (dag(v1)) $\\Rightarrow$ (reach\\textunderscore lr(v1, nil)) \\\\\n",
      " & (reach\\textunderscore lr(v1, v2)) $\\Rightarrow$ ((dag(v1)) $\\Rightarrow$ (dag(v2))) \\\\\n",
      "\\hline reach-left-right & (reach\\textunderscore lr(v1, v2)) $\\Rightarrow$ ((tree(v1)) $\\Rightarrow$ (reach\\textunderscore lr(v2, nil))) \\\\\n",
      " & (reach\\textunderscore lr(v1, v2)) $\\Rightarrow$ ((htree(v2)[v2]) $\\Rightarrow$ (htree(v1)[v1])) \\\\\n",
      " & (reach\\textunderscore lr(v1, v2)) $\\Rightarrow$ ((htree(v2)[v2]) $\\Rightarrow$ (htree(v1)[v2])) \\\\\n",
      " & (tree(v1)) $\\Rightarrow$ ((htree(v1)[v2]) $\\Rightarrow$ (reach\\textunderscore lr(v2, nil))) \\\\\n",
      " & (tree(v1)) $\\Rightarrow$ ((reach\\textunderscore lr(nil, v2)) $\\Rightarrow$ (reach\\textunderscore lr(v1, v2))) \\\\\n",
      " & (tree(v1)) $\\Rightarrow$ (reach\\textunderscore lr(v1, nil)) \\\\\n",
      "\\hline bst-left & (bst(v)) $\\Rightarrow$ (maxr(v) $\\leq$ minr(nil)) \\\\\n",
      " & (bst(v)) $\\Rightarrow$ ((keys(v)[k]) $\\Rightarrow$ (minr(v) $\\leq$ k)) \\\\\n",
      " & (bst(v)) $\\Rightarrow$ ((minr(nil) $\\leq$ maxr(v)) $\\Rightarrow$ (keys(nil)[k])) \\\\\n",
      "\\hline bst-right & (bst(v)) $\\Rightarrow$ ((keys(v)[k]) $\\Rightarrow$ (k $\\leq$ maxr(v))) \\\\\n",
      "\\hline bst-leftmost & (bst(v1)) $\\Rightarrow$ (bst(leftmost(v1))) \\\\\n",
      " & (bst(v1)) $\\Rightarrow$ (minr(v1) $=$ minr(leftmost(v1))) \\\\\n",
      " & (bst(v1)) $\\Rightarrow$ (((bst(leftmost(nil))) $\\Rightarrow$ ($\\neg$(v1 $=$ nil))) $\\Rightarrow$ (minr(leftmost(v1)) $=$ key(leftmost(v1)))) \\\\\n",
      "\\hline bst-left-right & (bst(v1)) $\\Rightarrow$ (maxr(nil) $\\leq$ minr(v1)) \\\\\n",
      " & (bst(v1)) $\\Rightarrow$ ((hbst(v1)[v2]) $\\Rightarrow$ (minr(v1) $\\leq$ minr(v2))) \\\\\n",
      " & (bst(v1)) $\\Rightarrow$ ((hbst(v1)[nil]) $\\Rightarrow$ (hbst(nil)[nil])) \\\\\n",
      " & (bst(v1)) $\\Rightarrow$ ((hbst(v1)[v2]) $\\Rightarrow$ (maxr(v2) $\\leq$ maxr(v1))) \\\\\n",
      " & (bst(v1)) $\\Rightarrow$ (maxr(v1) $\\leq$ minr(nil)) \\\\\n",
      "\\hline bst-maximal & (bst(v1)) $\\Rightarrow$ ((hbst(v1)[v2]) $\\Rightarrow$ (bst(v2))) \\\\\n",
      "\\hline bst-minimal & (bst(v1)) $\\Rightarrow$ ((hbst(v1)[v2]) $\\Rightarrow$ (bst(v2))) \\\\\n",
      "\\hline maxheap-htree-key & (maxheap(v1)) $\\Rightarrow$ ((htree(v1)[v2]) $\\Rightarrow$ (key(v2) $\\leq$ key(v1))) \\\\\n",
      "\\hline maxheap-keys & (maxheap(v)) $\\Rightarrow$ ((keys(v)[k]) $\\Rightarrow$ (k $\\leq$ key(v))) \\\\\n",
      "\\hline reachability & (v2(z) $=$ c) $\\vee$ (v2(z) $=$ v1(z)) \\\\\n",
      "\\hline reachability2 & (reach\\textunderscore pgm(z)) $\\Rightarrow$ (v1(z) $=$ v2(z)) \\\\\n",
      "\\hline reachability3 & (reach\\textunderscore pgm(z)) $\\Rightarrow$ (v1(z) $=$ v2(z)) \\\\\n",
      "\\hline reachability4 & (reach\\textunderscore pgm(z)) $\\Rightarrow$ (v1(z) $=$ v2(z)) \\\\\n",
      "\\hline reachability5 & (c $=$ v2(z)) $\\vee$ (n(v2(z)) $=$ v1(z)) \\\\\n",
      "\\hline reachability6 & (reach\\textunderscore pgm(z)) $\\Rightarrow$ (v1(z) $=$ n(v2(z))) \\\\\n"
     ]
    }
   ],
   "source": [
    "for i,name in enumerate(ordered_names):\n",
    "    if name not in statements_cex:\n",
    "        print('ERROR', name)\n",
    "        break\n",
    "    lemmas = statements_cex[name]\n",
    "    print('\\hline', name, '&', parse_latex(lemmas[0]), '\\\\\\\\')\n",
    "    for lemma in lemmas[1:]:\n",
    "        print(' &', parse_latex(lemma), '\\\\\\\\')"
   ]
  },
  {
   "cell_type": "markdown",
   "metadata": {},
   "source": [
    "## 3. Appendix - theorems"
   ]
  },
  {
   "cell_type": "code",
   "execution_count": 6,
   "metadata": {},
   "outputs": [],
   "source": [
    "theorems = dict()\n",
    "names = []\n",
    "with open('thms.txt', 'r') as input_file:\n",
    "        for num,line in enumerate(input_file):\n",
    "            line = line.split('\\t',1)\n",
    "            name = line[0]\n",
    "            theorem = line[1:][0][:-1]\n",
    "            if theorem[0] == '\"':\n",
    "                theorem = theorem[1:-1]\n",
    "            theorems[name] = theorem\n",
    "            names.append(name)"
   ]
  },
  {
   "cell_type": "code",
   "execution_count": 7,
   "metadata": {
    "scrolled": true
   },
   "outputs": [
    {
     "name": "stdout",
     "output_type": "stream",
     "text": [
      "\\hline dlist-list & dlst(x) $\\Rightarrow$ (If(x $=$ nil, ret $=$ nil, ret $=$ nxt(x)) $\\Rightarrow$ lst(ret)) \\\\\n",
      "\\hline slist-list & slst(x) $\\Rightarrow$ (If(x $=$ nil, ret $=$ nil, ret $=$ nxt(x)) $\\Rightarrow$ lst(ret)) \\\\\n",
      "\\hline sdlist-dlist & sdlst(x) $\\Rightarrow$ (If(x $=$ nil, ret $=$ nil, ret $=$ nxt(x)) $\\Rightarrow$ dlst(ret)) \\\\\n",
      "\\hline sdlist-dlist-slist & sdlst(x) $\\Rightarrow$ (If(x $=$ nil, ret $=$ nil, ret $=$ nxt(x)) $\\Rightarrow$ dlst(ret) $\\wedge$ slst(ret)) \\\\\n",
      "\\hline listlen-list & listlen(x, l) $\\Rightarrow$ (If(l $=$ 1, ret $=$ x, ret $=$ nxt(x)), list(x)) \\\\\n",
      "\\hline even-list & even\\textunderscore lst(x) $\\Rightarrow$ (If(x $=$ nil, ret $=$ nil, ret $=$ nxt(x)) $\\Rightarrow$ lst(ret)) \\\\\n",
      "\\hline odd-list & odd\\textunderscore lst(x) $\\Rightarrow$ (If(x $=$ nil, ret $=$ nil, ret $=$ nxt(x)) $\\Rightarrow$ lst(ret)) \\\\\n",
      "\\hline list-even-or-odd & lst(x) $\\Rightarrow$ (even\\textunderscore lst(x) $\\vee$ odd\\textunderscore lst(x)) \\\\\n",
      "\\hline lseg-list & lseg(x,y) $\\Rightarrow$ (If(x $=$ nil, ret $=$ nil, ret $=$ nxt(x)) $\\Rightarrow$ lst(ret)) \\\\\n",
      "\\hline lseg-next & lseg(x,y) $\\Rightarrow$ ((key(x) $\\neq$ k $\\wedge$ n(y) = z) $\\Rightarrow$ lseg(x,z)) \\\\\n",
      "\\hline lseg-next-dyn & lsegy(x) $\\Rightarrow$ (key(x) $\\neq$ k $\\Rightarrow$ lsegz\\textunderscore p(x)) \\\\\n",
      "\\hline lseg-trans & lseg(x, y) $\\Rightarrow$ (lst(y) $\\wedge$ x $\\neq$ c $\\wedge$ nxt(y) $=$ z $\\Rightarrow$ (lseg(x, z) $\\wedge$ lst(z))) \\\\\n",
      "\\hline lseg-trans2 & lseg(x, y) $\\Rightarrow$ (key(x) $\\neq$ k $\\wedge$ lseg(y, z) $\\Rightarrow$ lseg(x, z)) \\\\\n",
      "\\hline lseg-ext & lseg(x, y) $\\Rightarrow$ (key(x) $\\neq$ k $\\wedge$ lseg(x, z) $\\Rightarrow$ lseg(y, z) $\\vee$ lseg(z, y)) \\\\\n",
      "\\hline lseg-nil-list & lseg(x, y) $\\Rightarrow$ (If(x $=$ nil, ret $=$ nil, ret $=$ nxt(x)) $\\Rightarrow$ (y $=$ nil $\\Rightarrow$ list(ret))) \\\\\n",
      "\\hline slseg-nil-slist & slseg(x, y) $\\Rightarrow$ (If(x $=$ nil, ret $=$ nil, ret $=$ nxt(x)) $\\Rightarrow$ (y $=$ nil $\\Rightarrow$ slist(ret))) \\\\\n",
      "\\hline list-hlist-list & lst(x) $\\Rightarrow$ (key(x) $\\neq$ k $\\wedge$ y $\\in$ hlst(x) $\\Rightarrow$ lst(y)) \\\\\n",
      "\\hline list-hlist-lseg & lst(x) $\\Rightarrow$ (key(x) $\\neq$ k $\\wedge$ y $\\in$ hlst(x) $\\Rightarrow$ lseg(x,y)) \\\\\n",
      "\\hline list-lseg-keys & lst(x) $\\Rightarrow$ ((y $\\neq$ nil $\\wedge$ lseg(x,y) $\\wedge$ key(y) $=$ k) $\\Rightarrow$ k $\\in$ keys(x)) \\\\\n",
      "\\hline list-lseg-keys2 & lseg(x,y) $\\Rightarrow$ ((x $\\neq$ nil $\\wedge$ y $\\neq$ nil $\\wedge$ lst(x) $\\wedge$ key(y) $=$ k) $\\Rightarrow$ k $\\in$ keys(x)) \\\\\n",
      "\\hline rlist-list & rlst(x) $\\Rightarrow$ (If(x $=$ nil, ret $=$ nil, ret $=$ nxt(x)) $\\Rightarrow$ lst(ret)) \\\\\n",
      "\\hline rlist-black-height & rlst(x) $\\Rightarrow$ (black(x) $\\Rightarrow$ red\\textunderscore height(x) $=$ black\\textunderscore height(x)) \\\\\n",
      "\\hline rlist-red-height & rlst(x) $\\Rightarrow$ (red(x) $\\Rightarrow$ red\\textunderscore height(x) $=$ 1 + black\\textunderscore height(x)) \\\\\n",
      "\\hline cyclic-next & cyclic(x) $\\Rightarrow$ cyclic(nxt(x)) \\\\\n",
      "\\hline tree-dag & tree(x) $\\Rightarrow$ (If(x $=$ nil, ret $=$ nil, ret $=$ lft(x)) $\\Rightarrow$ dag(ret)) \\\\\n",
      "\\hline bst-tree & bst(x) $\\Rightarrow$ (If(x $=$ nil, ret $=$ nil, ret $=$ lft(x)) $\\Rightarrow$ tree(ret)) \\\\\n",
      "\\hline maxheap-dag & maxheap(x) $\\Rightarrow$ (If(x $=$ nil, ret $=$ nil, ret $=$ lft(x)) $\\Rightarrow$ dag(ret)) \\\\\n",
      "\\hline maxheap-tree & maxheap(x) $\\Rightarrow$ (If(x $=$ nil, ret $=$ nil, ret $=$ lft(x)) $\\Rightarrow$ tree(ret)) \\\\\n",
      "\\hline tree-p-tree & tree\\textunderscore p(x) $\\Rightarrow$ (parent(x) $=$ nil $\\Rightarrow$ tree(x)) \\\\\n",
      "\\hline tree-p-reach & tree\\textunderscore p(x) $\\Rightarrow$ (reach\\textunderscore lr(x,y) $\\Rightarrow$ tree\\textunderscore p(y)) \\\\\n",
      "\\hline tree-p-reach-tree & tree\\textunderscore p(x) $\\Rightarrow$ (parent(x) $=$ nil $\\Rightarrow$ (reach\\textunderscore lr(x,y) $\\Rightarrow$ tree(y))) \\\\\n",
      "\\hline tree-reach & reach(x,y) $\\Rightarrow$ (tree(x) $\\wedge$ key(x) $\\neq$ k $\\Rightarrow$ tree(y)) \\\\\n",
      "\\hline tree-reach2 & tree(x) $\\Rightarrow$ (reach(x,y) $\\Rightarrow$ tree(y)) \\\\\n",
      "\\hline dag-reach & reach(x,y) $\\Rightarrow$ (dag(x) $\\wedge$ key(x) $\\neq$ k $\\Rightarrow$ dag(y)) \\\\\n",
      "\\hline dag-reach2 & dag(x) $\\Rightarrow$ (reach(x,y) $\\Rightarrow$ dag(y)) \\\\\n",
      "\\hline reach-left-right & reach(x,y) $\\Rightarrow$ (x $\\neq$ nil $\\wedge$ y $\\neq$ nil $\\wedge$ reach(lft(x), y) $\\wedge$ reach(rght(x), z) $\\Rightarrow$ y $\\neq$ z) \\\\\n",
      "\\hline bst-left & bst(x) $\\Rightarrow$ ((x $\\neq$ nil $\\wedge$ k $\\in$ keys(x) $\\wedge$ k < key(x)) $\\Rightarrow$ k $\\in$ keys(lft(x))) \\\\\n",
      "\\hline bst-right & bst(x) $\\Rightarrow$ ((x $\\neq$ nil $\\wedge$ k $\\in$ keys(x) $\\wedge$ k > key(x)) $\\Rightarrow$ k $\\in$ keys(rght(x))) \\\\\n",
      "\\hline bst-leftmost & ((x $\\neq$ nil $\\wedge$ key(x) $\\neq$ k $\\wedge$ y $=$ leftmost(x)) $\\Rightarrow$ key(y) $=$ minr(x)) \\\\\n",
      "\\hline bst-left-right & bst(x) $\\Rightarrow$ ((x $\\neq$ nil $\\wedge$ y $\\in$ hbst(lft(x)) $\\wedge$ z $\\in$ hbst(rght(x))) $\\Rightarrow$ key(y) $\\leq$ key(z)) \\\\\n",
      "\\hline bst-maximal & bst(x) $\\Rightarrow$ ((x $\\neq$ nil y $\\neq$ nil $\\wedge$ rght(y) $\\neq$ nil $\\wedge$ y $\\in$ hbst(x) $\\wedge$ k $=$ maxr(x)) $\\Rightarrow$ k $=$ maxr(lft(y))) \\\\\n",
      "\\hline bst-minimal & bst(x) $\\Rightarrow$ ((x $\\neq$ nil y $\\neq$ nil $\\wedge$ lft(y) $\\neq$ nil $\\wedge$ y $\\in$ hbst(x) $\\wedge$ k $=$ minr(x)) $\\Rightarrow$ k $=$ minr(lft(y))) \\\\\n",
      "\\hline maxheap-htree-key & maxheap(x) $\\Rightarrow$ (key(x) $\\neq$ k $\\Rightarrow$ (y $\\in$ htree(x) $\\Rightarrow$ key(y) $\\leq$ key(x))) \\\\\n",
      "\\hline maxheap-keys & maxheap(x) $\\Rightarrow$ (lft(x) $\\neq$ nil $\\Rightarrow$ (k $\\in$ keys(x) $\\Rightarrow$ k $\\leq$ key(x)) \\\\\n",
      "\\hline reachability & {v1 = v2} \\\\ & while (v1 $\\neq$ nil) do \\\\ &   v1 := n(v1); \\\\ &   if (v2 $\\neq$ c) {v2 := n(v2)} \\\\ & endwhile \\\\ & {v2 = nil $\\vee$ v2 = c} \\\\\n",
      "\\hline reachability2 & {v1 = v2} \\\\ & while (v1 $\\neq$ nil) do \\\\ &   v1 := n(v1); \\\\ &   v2 := n(v2) \\\\ & endwhile \\\\ & {v2 = nil} \\\\\n",
      "\\hline reachability3 & {v1 = v2} \\\\ & while (v1 $\\neq$ c) do \\\\ &   v1 := n(v1); \\\\ &   if (v2 $\\neq$ c) {v2 := n(v2)} \\\\ & endwhile \\\\ & {v2 = nil $\\vee$ v2 = c} \\\\\n",
      "\\hline reachability4 & {v1 = v2} \\\\ & while (v1 $\\neq$ c) do \\\\ &   v1 := n(v1); \\\\ &   v2 := n(v2) \\\\ & endwhile \\\\ & {v2 = nil} \\\\\n",
      "\\hline reachability5 & {v1 = n(v2)} \\\\ & while (v1 $\\neq$ nil) do \\\\ &   v1 := n(v1); \\\\ &   if (v2 $\\neq$ c) {v2 := n(v2)} \\\\ & endwhile \\\\ & {n(v2) = nil $\\vee$ v2 = c} \\\\\n",
      "\\hline reachability6 & {v1 = n(v2)} \\\\ & while (v1 $\\neq$ nil) do \\\\ & v2 := n(v2) \\\\ & endwhile \\\\ & {n(v2) = nil} \\\\\n"
     ]
    }
   ],
   "source": [
    "for i,name in enumerate(ordered_names):\n",
    "    if name not in theorems:\n",
    "        print('ERROR', name)\n",
    "        break\n",
    "    print('\\hline', name, '&', parse_latex(theorems[name]), '\\\\\\\\')"
   ]
  }
 ],
 "metadata": {
  "kernelspec": {
   "display_name": "Python 3",
   "language": "python",
   "name": "python3"
  },
  "language_info": {
   "codemirror_mode": {
    "name": "ipython",
    "version": 3
   },
   "file_extension": ".py",
   "mimetype": "text/x-python",
   "name": "python",
   "nbconvert_exporter": "python",
   "pygments_lexer": "ipython3",
   "version": "3.8.3"
  }
 },
 "nbformat": 4,
 "nbformat_minor": 4
}
